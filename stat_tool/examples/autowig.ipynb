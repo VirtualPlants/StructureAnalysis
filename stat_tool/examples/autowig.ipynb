{
 "cells": [
  {
   "cell_type": "code",
   "execution_count": 1,
   "metadata": {
    "collapsed": false
   },
   "outputs": [],
   "source": [
    "from vplants.autowig import autowig"
   ]
  },
  {
   "cell_type": "code",
   "execution_count": 2,
   "metadata": {
    "collapsed": false
   },
   "outputs": [],
   "source": [
    "from path import path\n",
    "\n",
    "rootdir = path('../..').abspath()\n",
    "\n",
    "includedir = rootdir + \"/stat_tool/build-scons/include\"\n",
    "headers = [str(f) for f in includedir.walkfiles('*.h')]\n",
    "\n",
    "flags = ['-x', 'c++', '-g', '-std=c++11', '-stdlib=libstdc++',\n",
    "         '-I/usr/include', '-I' + str(rootdir + '/tool/build-scons/include'), '-I' + str(includedir), '-D__STDC_CONSTANT_MACROS',\n",
    "         '-I/usr/local/lib/clang/3.7.0/include', '-D__STDC_LIMIT_MACROS']\n",
    "\n",
    "force = True\n",
    "\n",
    "asg = autowig.AbstractSemanticGraph()\n",
    "autowig.front_end.plugin = 'pyclanglite'\n",
    "autowig.front_end(asg, headers, flags=flags, silent=True,\n",
    "                  force_overload=True, bootstrap=3, cache=rootdir + '/.AutoWIG', force=force)"
   ]
  },
  {
   "cell_type": "code",
   "execution_count": 3,
   "metadata": {
    "collapsed": true
   },
   "outputs": [],
   "source": [
    "asg['::std::ostringstream'].clean = False\n",
    "asg['enum ::std::_Ios_Openmode'].clean = False\n",
    "for cst in asg['enum ::std::_Ios_Openmode'].constants:\n",
    "    cst.clean = False\n",
    "asg.clean()"
   ]
  },
  {
   "cell_type": "code",
   "execution_count": 4,
   "metadata": {
    "collapsed": false
   },
   "outputs": [],
   "source": [
    "autowig.back_end.plugin = 'boost_python:std_filter'\n",
    "autowig.back_end(asg)\n",
    "\n",
    "from vplants.autowig.boost_python_back_end import BoostPythonExportMappingFileProxy\n",
    "\n",
    "autowig.back_end.plugin = 'boost_python:export'\n",
    "autowig.back_end(asg,\n",
    "                 directory = rootdir + '/stat_tool/src/wrapper',\n",
    "                 pattern = '.*stat_tool.*',\n",
    "                 proxy = BoostPythonExportMappingFileProxy,\n",
    "                 prefix = '_')\n",
    "\n",
    "autowig.back_end(asg,\n",
    "                 directory = rootdir + '/stat_tool/src/wrapper',\n",
    "                 pattern = '(::std::ostringstream|enum ::std::_Ios_Openmode)',\n",
    "                 prefix = '_')\n",
    "\n",
    "autowig.back_end.plugin = 'boost_python:closure'\n",
    "autowig.back_end(asg)\n",
    "\n",
    "autowig.back_end.plugin = 'boost_python:export'\n",
    "autowig.back_end(asg,\n",
    "                 directory = rootdir + '/stat_tool/src/wrapper',\n",
    "                 pattern = '.*',\n",
    "                 proxy = BoostPythonExportMappingFileProxy,\n",
    "                 prefix = '_')\n",
    "\n",
    "autowig.back_end.plugin = 'boost_python:module'\n",
    "autowig.back_end(asg,\n",
    "                 filename = rootdir + '/stat_tool/src/wrapper/__stat_tool.cpp',\n",
    "                 package = 'openalea.stat_tool')\n",
    "\n",
    "autowig.back_end.plugin = 'boost_python:import'\n",
    "autowig.back_end(asg,\n",
    "                 filename = rootdir + '/stat_tool/src/openalea/stat_tool/_stat_tool.py',\n",
    "                 module = rootdir + '/stat_tool/src/wrapper/__stat_tool.cpp')"
   ]
  },
  {
   "cell_type": "code",
   "execution_count": null,
   "metadata": {
    "collapsed": true
   },
   "outputs": [],
   "source": [
    "autowig.back_end.plugin = 'on_disk'\n",
    "autowig.back_end(asg,\n",
    "                 pattern = rootdir + '/(stat_tool|misc)/src/(wrapper|openalea)/.*')"
   ]
  },
  {
   "cell_type": "code",
   "execution_count": null,
   "metadata": {
    "collapsed": false
   },
   "outputs": [],
   "source": [
    "autowig.scons(rootdir + '/stat_tool', '-j3')"
   ]
  },
  {
   "cell_type": "code",
   "execution_count": null,
   "metadata": {
    "collapsed": true
   },
   "outputs": [],
   "source": []
  }
 ],
 "metadata": {
  "kernelspec": {
   "display_name": "Python 2",
   "language": "python",
   "name": "python2"
  },
  "language_info": {
   "codemirror_mode": {
    "name": "ipython",
    "version": 2
   },
   "file_extension": ".py",
   "mimetype": "text/x-python",
   "name": "python",
   "nbconvert_exporter": "python",
   "pygments_lexer": "ipython2",
   "version": "2.7.9"
  }
 },
 "nbformat": 4,
 "nbformat_minor": 0
}
