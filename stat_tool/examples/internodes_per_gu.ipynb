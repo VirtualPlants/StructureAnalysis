{
 "cells": [
  {
   "cell_type": "code",
   "execution_count": 1,
   "metadata": {
    "collapsed": false
   },
   "outputs": [],
   "source": [
    "import matplotlib\n",
    "#%matplotlib nbagg\n",
    "from matplotlib import pyplot as plt"
   ]
  },
  {
   "cell_type": "code",
   "execution_count": 2,
   "metadata": {
    "collapsed": true
   },
   "outputs": [],
   "source": [
    "from openalea.stat_tool import __stat_tool"
   ]
  },
  {
   "cell_type": "markdown",
   "metadata": {},
   "source": [
    "# Analyzing the number of internodes per growth unit"
   ]
  },
  {
   "cell_type": "markdown",
   "metadata": {},
   "source": [
    "**Abstract**\n",
    "This notebook aims at analyzing the number of nodes of growth units in selected architectural  position considering the respective roles of preformation and neoformation using\n",
    "\n",
    "* comparison tests,\n",
    "* one-way variance analysis,\n",
    "* estimation of finite mixture of distributions."
   ]
  },
  {
   "cell_type": "markdown",
   "metadata": {},
   "source": [
    "**Keywords**\n",
    "comparison test; anova; finite mixture; architecture analysis;"
   ]
  },
  {
   "cell_type": "markdown",
   "metadata": {},
   "source": [
    "## Introduction\n",
    "\n",
    "## Material & methods\n",
    "\n",
    "Data sets files are avaible in the `../share/data` directory.\n",
    "\n",
    "* Wild cherry tree, number of nodes per growth unit (GU), \n",
    "\n",
    "    * data: Dominique Fournier,\n",
    "    * files: \n",
    "    \n",
    "        * meri1.his: order 1,\n",
    "        * meri2.his: order 2,\n",
    "        * meri3.his: order 3, GU 1,\n",
    "        * meri4.his: order 3, GU 2,\n",
    "        * meri5.his: short shoots.\n",
    "        \n",
    "* Poplar:,number of nodes per growth unit, \n",
    "\n",
    "    * data: Yves Caraglio and Herve Rey,\n",
    "    * files:\n",
    "      \n",
    "        * peup1.his: order 2,\n",
    "        * peup2.his: order 3,\n",
    "        * peup3.his: order 4,\n",
    "        * peup4.his: order 5,\n",
    "        * peup5.his: order 3, GU 4,\n",
    "        * peup6.his: order 3, acrotony.\n",
    "        \n",
    "## Results\n",
    "\n",
    "The `OpenaAlea.StatTool` package is used"
   ]
  },
  {
   "cell_type": "code",
   "execution_count": 3,
   "metadata": {
    "collapsed": false
   },
   "outputs": [],
   "source": [
    "from openalea.stat_tool import stat_tool"
   ]
  },
  {
   "cell_type": "markdown",
   "metadata": {},
   "source": [
    "using the extensions\n",
    "\n",
    "* `mplotlib` to enable plots of `OpenAlea.StatTool` objects using the matplotlib package"
   ]
  },
  {
   "cell_type": "code",
   "execution_count": 4,
   "metadata": {
    "collapsed": true
   },
   "outputs": [],
   "source": [
    "%reload_ext openalea.stat_tool.mplotlib"
   ]
  },
  {
   "cell_type": "markdown",
   "metadata": {},
   "source": [
    "* `aml` to activate a `OpenAlea.StatTool` **AML-like** interface"
   ]
  },
  {
   "cell_type": "code",
   "execution_count": 5,
   "metadata": {
    "collapsed": false
   },
   "outputs": [],
   "source": [
    "%reload_ext openalea.stat_tool.aml"
   ]
  },
  {
   "cell_type": "code",
   "execution_count": 6,
   "metadata": {
    "collapsed": false
   },
   "outputs": [],
   "source": [
    "meri1 = stat_tool.Histogram(\"../share/data/meri1.dat\")\n",
    "meri2 = stat_tool.Histogram(\"../share/data/meri2.dat\")\n",
    "meri3 = stat_tool.Histogram(\"../share/data/meri3.dat\")\n",
    "meri4 = stat_tool.Histogram(\"../share/data/meri4.dat\")\n",
    "meri5 = stat_tool.Histogram(\"../share/data/meri5.dat\")\n",
    "meri0 = stat_tool.Merge(meri1, meri2, meri3, meri4, meri5)"
   ]
  },
  {
   "cell_type": "code",
   "execution_count": 7,
   "metadata": {
    "collapsed": false
   },
   "outputs": [
    {
     "name": "stdout",
     "output_type": "stream",
     "text": [
      "F-test (88 degrees of freedom, 75 degrees of freedom)\n",
      "F-value: 1.21097   critical probability: 0.19769\n",
      "reference F-value: 1.44897   reference critical probability: 0.05\n",
      "\n"
     ]
    }
   ],
   "source": [
    "stat_tool.ComparisonTest(\"F\", meri1, meri2)"
   ]
  },
  {
   "cell_type": "code",
   "execution_count": 8,
   "metadata": {
    "collapsed": false
   },
   "outputs": [
    {
     "name": "stdout",
     "output_type": "stream",
     "text": [
      "two-sided t-test (162 degrees of freedom)\n",
      "t-value: 1.87611   critical probability: 0.0624397\n",
      "reference t-value: 1.97472   reference critical probability: 0.05\n",
      "\n"
     ]
    }
   ],
   "source": [
    "stat_tool.ComparisonTest(\"T\", meri1, meri2)"
   ]
  },
  {
   "cell_type": "code",
   "execution_count": 9,
   "metadata": {
    "collapsed": false
   },
   "outputs": [
    {
     "name": "stdout",
     "output_type": "stream",
     "text": [
      "two-sided Wilcoxon-Mann-Whitney test\n",
      "standard normal value: 1.45438   critical probability: 0.145841\n",
      "reference standard normal value: 1.95996   reference critical probability: 0.05\n",
      "P(X1 < X2) = 0.400651   P(X1 = X2) = 0.0674157   P(X1 > X2) = 0.531934\n",
      "\n"
     ]
    }
   ],
   "source": [
    "stat_tool.ComparisonTest(\"W\", meri1, meri2)"
   ]
  },
  {
   "cell_type": "code",
   "execution_count": 10,
   "metadata": {
    "collapsed": false
   },
   "outputs": [
    {
     "name": "stdout",
     "output_type": "stream",
     "text": [
      "F-test (75 degrees of freedom, 119 degrees of freedom)\n",
      "F-value: 1.23739   critical probability: 0.148703\n",
      "reference F-value: 1.40075   reference critical probability: 0.05\n",
      "\n"
     ]
    }
   ],
   "source": [
    "stat_tool.ComparisonTest(\"F\", meri1, meri3)"
   ]
  },
  {
   "cell_type": "code",
   "execution_count": 11,
   "metadata": {
    "collapsed": false
   },
   "outputs": [
    {
     "name": "stdout",
     "output_type": "stream",
     "text": [
      "two-sided t-test (147 degrees of freedom)\n",
      "t-value: 8.39242   critical probability: 3.63812e-14\n",
      "reference t-value: 1.97623   reference critical probability: 0.05\n",
      "reference t-value: 2.60969   reference critical probability: 0.01\n",
      "\n"
     ]
    }
   ],
   "source": [
    "stat_tool.ComparisonTest(\"T\", meri1, meri3)"
   ]
  },
  {
   "cell_type": "code",
   "execution_count": 12,
   "metadata": {
    "collapsed": false
   },
   "outputs": [
    {
     "name": "stdout",
     "output_type": "stream",
     "text": [
      "two-sided Wilcoxon-Mann-Whitney test\n",
      "standard normal value: 7.44031   critical probability: 1.00447e-13\n",
      "reference standard normal value: 1.95996   reference critical probability: 0.05\n",
      "reference standard normal value: 2.57583   reference critical probability: 0.01\n",
      "P(X1 < X2) = 0.160197   P(X1 = X2) = 0.0501096   P(X1 > X2) = 0.789693\n",
      "\n"
     ]
    }
   ],
   "source": [
    "stat_tool.ComparisonTest(\"W\", meri1, meri3)"
   ]
  },
  {
   "cell_type": "code",
   "execution_count": 13,
   "metadata": {
    "collapsed": false
   },
   "outputs": [],
   "source": [
    "#plt.close('all')\n",
    "#fig = plt.figure()\n",
    "meri0.plot()\n",
    "plt.show()"
   ]
  },
  {
   "cell_type": "markdown",
   "metadata": {},
   "source": [
    "estimation of a mixture of two distributions assuming a first sub-population of GUs made only of a preformed part and a second sub-population made of both a preformed part\n",
    "and a neoformed part"
   ]
  },
  {
   "cell_type": "code",
   "execution_count": 14,
   "metadata": {
    "collapsed": false
   },
   "outputs": [
    {
     "name": "stdout",
     "output_type": "stream",
     "text": [
      "\n",
      "NEGATIVE_BINOMIAL   INF_BOUND : 0   PARAMETER : 7.97852   PROBABILITY : 0.378193\n",
      "\n",
      "1 distribution   2 * log-likelihood: -2735.4   3 free parameters   2 * penalyzed log-likelihood (BIC): -2753.54   weight: 1.17346e-27\n",
      "\n",
      "2 distributions   2 * log-likelihood: -2587.18   7 free parameters   2 * penalyzed log-likelihood (BIC): -2629.53   weight: 0.999902\n",
      "\n",
      "3 distributions   2 * log-likelihood: -2581.43   11 free parameters   2 * penalyzed log-likelihood (BIC): -2647.98   weight: 9.82131e-05\n",
      "\n",
      "4 distributions   2 * log-likelihood: -2581.51   15 free parameters   2 * penalyzed log-likelihood (BIC): -2672.26   weight: 5.25355e-10\n",
      "\n"
     ]
    }
   ],
   "source": [
    "from openalea.stat_tool import __stat_tool\n",
    "error = __stat_tool.stat_tool.StatError(__stat_tool.stat_tool.NB_ERROR)\n",
    "ss = __stat_tool.std.Ostringstream(__stat_tool.std.ios_openmode.S__OUT)\n",
    "mixt = meri0.discrete_mixture_estimation(error, ss, 1, 4, [stat_tool.discrete_parametric.BINOMIAL]*4, 0, True, True, __stat_tool.stat_tool.model_selection_criterion.BIC, 0.1)\n",
    "print ss.str()\n",
    "if error.get_nb_error() > 0:\n",
    "    ss = __stat_tool.std.Ostringstream(__stat_tool.std.ios_openmode.S__OUT)\n",
    "    error.ascii_write(ss, __stat_tool.stat_tool.error_type.ERROR)\n",
    "    raise Exception(ss.str())"
   ]
  },
  {
   "cell_type": "code",
   "execution_count": 15,
   "metadata": {
    "collapsed": false
   },
   "outputs": [],
   "source": [
    "#plt.close('all')\n",
    "#plt.figure()\n",
    "mixt.plot()\n",
    "plt.show()"
   ]
  },
  {
   "cell_type": "code",
   "execution_count": 21,
   "metadata": {
    "collapsed": false,
    "scrolled": false
   },
   "outputs": [
    {
     "name": "stdout",
     "output_type": "stream",
     "text": [
      "MIXTURE 2 DISTRIBUTIONS\n",
      "mean: 13.1217   variance: 34.4809   standard deviation: 5.87204\n",
      "\n",
      "frequency distribution - sample size: 424\n",
      "mean: 13.1179   variance: 34.6858   standard deviation: 5.88947\n",
      "\n",
      "log-likelihood: -1293.59   (normalized: -3.05092)\n",
      "maximum possible log-likelihood: -1284.16   (information: -3.02869)\n",
      "deviance: 18.8487\n",
      "\n",
      "7 free parameters   2 * penalyzed log-likelihood (AIC): -2601.18\n",
      "7 free parameters   2 * penalyzed log-likelihood (AICc): -2601.45\n",
      "7 free parameters   2 * penalyzed log-likelihood (BIC): -2629.53\n",
      "7 free parameters   2 * penalyzed log-likelihood (BICc): -2624.93\n",
      "\n",
      "log-likelihood of the optimal classification: -1313.2   (normalized: -3.09717)\n",
      "maximum possible log-likelihood of the optimal classification: -1302.82   (information: -3.07268)\n",
      "\n",
      "chi-square test (17 degrees of freedom)\n",
      "chi-square value: 17.3446   critical probability: 0.431264\n",
      "reference chi-square value: 27.5871   reference critical probability: 0.05\n",
      "\n",
      "DISTRIBUTION 1  WEIGHT : 0.3167\n",
      "BINOMIAL   INF_BOUND : 1   SUP_BOUND : 25   PROBABILITY : 0.199386\n",
      "mean: 5.78526   variance: 3.83115   standard deviation: 1.95733\n",
      "\n",
      "frequency distribution 1 - sample size: 135\n",
      "mean: 5.78519   variance: 3.78187   standard deviation: 1.9447\n",
      "\n",
      "DISTRIBUTION 2  WEIGHT : 0.6833\n",
      "BINOMIAL   INF_BOUND : 3   SUP_BOUND : 139   PROBABILITY : 0.0994271\n",
      "mean: 16.5221   variance: 12.1776   standard deviation: 3.48965\n",
      "\n",
      "frequency distribution 2 - sample size: 289\n",
      "mean: 16.5433   variance: 12.2073   standard deviation: 3.4939\n",
      "\n",
      "distances between components\n",
      "          0.953705  \n",
      "0.953705            \n",
      "\n"
     ]
    }
   ],
   "source": [
    "ss = __stat_tool.std.Ostringstream(__stat_tool.std.ios_openmode.S__OUT)\n",
    "mixt.ascii_write(ss, False)\n",
    "print ss.str()"
   ]
  },
  {
   "cell_type": "raw",
   "metadata": {
    "collapsed": true
   },
   "source": [
    "peup1 = Histogram(\"Sample/Histogram/peup1.his\")\n",
    "peup2 = Histogram(\"Sample/Histogram/peup2.his\")\n",
    "peup3 = Histogram(\"Sample/Histogram/peup3.his\")\n",
    "peup4 = Histogram(\"Sample/Histogram/peup4.his\")\n",
    "peup5 = Histogram(\"Sample/Histogram/peup5.his\")\n",
    "peup6 = Histogram(\"Sample/Histogram/peup6.his\")\n",
    "\n",
    "mixt10 = Estimate(peup2, \"MIXTURE\", \"B\", \"NB\", \"NB\", \"NB\", NbComponent->\"Estimated\")\n",
    "\n",
    "peup = Merge(peup1, peup2, peup3, peup4, peup5, peup6)\n",
    "\n",
    "mixt11 = Estimate(peup, \"MIXTURE\", \"B\", \"NB\", \"NB\", \"NB\", NbComponent->\"Estimated\")\n",
    "# mixt11 = Estimate(peup, \"MIXTURE\", \"B\", \"NB\")"
   ]
  },
  {
   "cell_type": "code",
   "execution_count": null,
   "metadata": {
    "collapsed": true
   },
   "outputs": [],
   "source": []
  }
 ],
 "metadata": {
  "kernelspec": {
   "display_name": "Python 2",
   "language": "python",
   "name": "python2"
  },
  "language_info": {
   "codemirror_mode": {
    "name": "ipython",
    "version": 2
   },
   "file_extension": ".py",
   "mimetype": "text/x-python",
   "name": "python",
   "nbconvert_exporter": "python",
   "pygments_lexer": "ipython2",
   "version": "2.7.9"
  }
 },
 "nbformat": 4,
 "nbformat_minor": 0
}
