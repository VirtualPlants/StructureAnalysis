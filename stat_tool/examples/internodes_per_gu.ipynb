{
 "cells": [
  {
   "cell_type": "markdown",
   "metadata": {},
   "source": [
    "# Analyzing the number of internodes per growth unit"
   ]
  },
  {
   "cell_type": "markdown",
   "metadata": {},
   "source": [
    "**Abstract**\n",
    "This notebook aims at analyzing the number of nodes of growth units in selected architectural  position considering the respective roles of preformation and neoformation using\n",
    "\n",
    "* comparison tests,\n",
    "* one-way variance analysis,\n",
    "* estimation of finite mixture of distributions."
   ]
  },
  {
   "cell_type": "markdown",
   "metadata": {},
   "source": [
    "**Keywords**\n",
    "comparison test; anova; finite mixture; architecture analysis;"
   ]
  },
  {
   "cell_type": "markdown",
   "metadata": {},
   "source": [
    "## Introduction\n",
    "\n",
    "## Material & methods\n",
    "\n",
    "Data sets files are avaible in the `../share/data` directory.\n",
    "\n",
    "* Wild cherry tree, number of nodes per growth unit (GU), \n",
    "\n",
    "    * data: Dominique Fournier,\n",
    "    * files: \n",
    "    \n",
    "        * meri1.his: order 1,\n",
    "        * meri2.his: order 2,\n",
    "        * meri3.his: order 3, GU 1,\n",
    "        * meri4.his: order 3, GU 2,\n",
    "        * meri5.his: short shoots.\n",
    "        \n",
    "* Poplar:,number of nodes per growth unit, \n",
    "\n",
    "    * data: Yves Caraglio and Herve Rey,\n",
    "    * files:\n",
    "      \n",
    "        * peup1.his: order 2,\n",
    "        * peup2.his: order 3,\n",
    "        * peup3.his: order 4,\n",
    "        * peup4.his: order 5,\n",
    "        * peup5.his: order 3, GU 4,\n",
    "        * peup6.his: order 3, acrotony.\n",
    "        \n",
    "## Results"
   ]
  },
  {
   "cell_type": "code",
   "execution_count": 1,
   "metadata": {
    "collapsed": true
   },
   "outputs": [],
   "source": [
    "from openalea.stat_tool.__stat_tool import stat_tool"
   ]
  },
  {
   "cell_type": "code",
   "execution_count": 17,
   "metadata": {
    "collapsed": false
   },
   "outputs": [],
   "source": [
    "def FrequencyDistribution(filename):\n",
    "    \"\"\"\n",
    "    \"\"\"\n",
    "    error = stat_tool.StatError(stat_tool.NB_ERROR)\n",
    "    #data = stat_tool.DiscreteDistributionData.ascii_read(error, filename)\n",
    "    data = stat_tool.ascii_read_d00b270bd3835f568531951506bb4410(error, filename)\n",
    "    if error.get_nb_error() > 0:\n",
    "        raise IOError(\"wrong filename ? \" + filename)\n",
    "    return data\n",
    "\n",
    "meri1 = FrequencyDistribution(\"../share/data/meri1.dat\")\n",
    "meri2 = FrequencyDistribution(\"../share/data/meri2.dat\")\n",
    "meri3 = FrequencyDistribution(\"../share/data/meri3.dat\")\n",
    "meri4 = FrequencyDistribution(\"../share/data/meri4.dat\")\n",
    "meri5 = FrequencyDistribution(\"../share/data/meri5.dat\")"
   ]
  },
  {
   "cell_type": "code",
   "execution_count": 18,
   "metadata": {
    "collapsed": false
   },
   "outputs": [],
   "source": [
    "meri1.discrete_mixture_estimation?"
   ]
  },
  {
   "cell_type": "code",
   "execution_count": 4,
   "metadata": {
    "collapsed": false
   },
   "outputs": [
    {
     "ename": "AttributeError",
     "evalue": "type object 'DiscreteDistributionData' has no attribute 'ascii_read'",
     "output_type": "error",
     "traceback": [
      "\u001b[1;31m---------------------------------------------------------------------------\u001b[0m",
      "\u001b[1;31mAttributeError\u001b[0m                            Traceback (most recent call last)",
      "\u001b[1;32m<ipython-input-4-edc71796f049>\u001b[0m in \u001b[0;36m<module>\u001b[1;34m()\u001b[0m\n\u001b[1;32m----> 1\u001b[1;33m \u001b[0mstat_tool\u001b[0m\u001b[1;33m.\u001b[0m\u001b[0mDiscreteDistributionData\u001b[0m\u001b[1;33m.\u001b[0m\u001b[0mascii_read\u001b[0m\u001b[1;33m(\u001b[0m\u001b[1;34m\"../share/data/meri1.dat\"\u001b[0m\u001b[1;33m)\u001b[0m\u001b[1;33m\u001b[0m\u001b[0m\n\u001b[0m",
      "\u001b[1;31mAttributeError\u001b[0m: type object 'DiscreteDistributionData' has no attribute 'ascii_read'"
     ]
    }
   ],
   "source": [
    "stat_tool.DiscreteDistributionData.ascii_read(\"../share/data/meri1.dat\")"
   ]
  },
  {
   "cell_type": "raw",
   "metadata": {
    "collapsed": true
   },
   "source": [
    "meri1 = Histogram(\"Sample/Histogram/meri1.his\")\n",
    "meri2 = Histogram(\"Sample/Histogram/meri2.his\")\n",
    "meri3 = Histogram(\"Sample/Histogram/meri3.his\")\n",
    "meri4 = Histogram(\"Sample/Histogram/meri4.his\")\n",
    "meri5 = Histogram(\"Sample/Histogram/meri5.his\")\n",
    "\n",
    "# Plot(meri1, meri2, meri3, meri4, meri5)\n",
    "\n",
    "Compare(meri1, meri2, meri3, meri4, meri5, \"N\")\n",
    "\n",
    "ComparisonTest(\"F\", meri1, meri2)\n",
    "ComparisonTest(\"T\", meri1, meri2)\n",
    "ComparisonTest(\"W\", meri1, meri2)\n",
    "\n",
    "ComparisonTest(\"F\", meri1, meri3)\n",
    "ComparisonTest(\"T\", meri1, meri3)\n",
    "ComparisonTest(\"W\", meri1, meri3)\n",
    "\n",
    "# estimation of a mixture of two distributions assuming a first sub-population of GUs\n",
    "# made only of a preformed part and a second sub-population made of both a preformed part\n",
    "# and a neoformed part\n",
    "\n",
    "mixt1 = Estimate(meri2, \"MIXTURE\", \"B\", \"B\")\n",
    "\n",
    "meri = Merge(meri1, meri2, meri3, meri4, meri5)\n",
    "\n",
    "# model selection approach: estimation of both the mixture parameters and\n",
    "# the number of components \n",
    "\n",
    "mixt2 = Estimate(meri, \"MIXTURE\", \"B\", \"B\", \"B\", \"B\",  NbComponent->\"Estimated\")\n",
    "# mixt2 = Estimate(meri, \"MIXTURE\", \"NB\", \"NB\")\n",
    "# Plot(ExtractDistribution(mixt2, \"Mixture\"))\n",
    "# Display(mixt2)\n",
    "\n",
    "peup1 = Histogram(\"Sample/Histogram/peup1.his\")\n",
    "peup2 = Histogram(\"Sample/Histogram/peup2.his\")\n",
    "peup3 = Histogram(\"Sample/Histogram/peup3.his\")\n",
    "peup4 = Histogram(\"Sample/Histogram/peup4.his\")\n",
    "peup5 = Histogram(\"Sample/Histogram/peup5.his\")\n",
    "peup6 = Histogram(\"Sample/Histogram/peup6.his\")\n",
    "\n",
    "mixt10 = Estimate(peup2, \"MIXTURE\", \"B\", \"NB\", \"NB\", \"NB\", NbComponent->\"Estimated\")\n",
    "\n",
    "peup = Merge(peup1, peup2, peup3, peup4, peup5, peup6)\n",
    "\n",
    "mixt11 = Estimate(peup, \"MIXTURE\", \"B\", \"NB\", \"NB\", \"NB\", NbComponent->\"Estimated\")\n",
    "# mixt11 = Estimate(peup, \"MIXTURE\", \"B\", \"NB\")"
   ]
  },
  {
   "cell_type": "code",
   "execution_count": null,
   "metadata": {
    "collapsed": true
   },
   "outputs": [],
   "source": []
  }
 ],
 "metadata": {
  "kernelspec": {
   "display_name": "Python 2",
   "language": "python",
   "name": "python2"
  },
  "language_info": {
   "codemirror_mode": {
    "name": "ipython",
    "version": 2
   },
   "file_extension": ".py",
   "mimetype": "text/x-python",
   "name": "python",
   "nbconvert_exporter": "python",
   "pygments_lexer": "ipython2",
   "version": "2.7.9"
  }
 },
 "nbformat": 4,
 "nbformat_minor": 0
}
