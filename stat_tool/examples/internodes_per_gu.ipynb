{
 "cells": [
  {
   "cell_type": "code",
   "execution_count": 1,
   "metadata": {
    "collapsed": false
   },
   "outputs": [
    {
     "name": "stderr",
     "output_type": "stream",
     "text": [
      "/usr/local/lib/python2.7/dist-packages/ipython-4.0.0-py2.7.egg/IPython/kernel/__init__.py:13: ShimWarning: The `IPython.kernel` package has been deprecated. You should import from ipykernel or jupyter_client instead.\n",
      "  \"You should import from ipykernel or jupyter_client instead.\", ShimWarning)\n"
     ]
    }
   ],
   "source": [
    "import matplotlib\n",
    "%matplotlib nbagg\n",
    "from matplotlib import pyplot as plt"
   ]
  },
  {
   "cell_type": "markdown",
   "metadata": {},
   "source": [
    "# Analyzing the number of internodes per growth unit"
   ]
  },
  {
   "cell_type": "markdown",
   "metadata": {},
   "source": [
    "**Abstract**\n",
    "This notebook aims at analyzing the number of nodes of growth units in selected architectural  position considering the respective roles of preformation and neoformation using\n",
    "\n",
    "* comparison tests,\n",
    "* one-way variance analysis,\n",
    "* estimation of finite mixture of distributions."
   ]
  },
  {
   "cell_type": "markdown",
   "metadata": {},
   "source": [
    "**Keywords**\n",
    "comparison test; anova; finite mixture; architecture analysis;"
   ]
  },
  {
   "cell_type": "markdown",
   "metadata": {},
   "source": [
    "## Introduction\n",
    "\n",
    "## Material & methods\n",
    "\n",
    "Data sets files are avaible in the `../share/data` directory.\n",
    "\n",
    "* Wild cherry tree, number of nodes per growth unit (GU), \n",
    "\n",
    "    * data: Dominique Fournier,\n",
    "    * files: \n",
    "    \n",
    "        * meri1.his: order 1,\n",
    "        * meri2.his: order 2,\n",
    "        * meri3.his: order 3, GU 1,\n",
    "        * meri4.his: order 3, GU 2,\n",
    "        * meri5.his: short shoots.\n",
    "        \n",
    "* Poplar:,number of nodes per growth unit, \n",
    "\n",
    "    * data: Yves Caraglio and Herve Rey,\n",
    "    * files:\n",
    "      \n",
    "        * peup1.his: order 2,\n",
    "        * peup2.his: order 3,\n",
    "        * peup3.his: order 4,\n",
    "        * peup4.his: order 5,\n",
    "        * peup5.his: order 3, GU 4,\n",
    "        * peup6.his: order 3, acrotony.\n",
    "        \n",
    "## Results"
   ]
  },
  {
   "cell_type": "code",
   "execution_count": 2,
   "metadata": {
    "collapsed": false
   },
   "outputs": [],
   "source": [
    "from openalea.stat_tool import stat_tool\n",
    "%reload_ext openalea.stat_tool.mplotlib\n",
    "%reload_ext openalea.stat_tool.aml"
   ]
  },
  {
   "cell_type": "code",
   "execution_count": 3,
   "metadata": {
    "collapsed": false
   },
   "outputs": [],
   "source": [
    "meri1 = stat_tool.Histogram(\"../share/data/meri1.dat\")\n",
    "meri2 = stat_tool.Histogram(\"../share/data/meri2.dat\")\n",
    "meri3 = stat_tool.Histogram(\"../share/data/meri3.dat\")\n",
    "meri4 = stat_tool.Histogram(\"../share/data/meri4.dat\")\n",
    "meri5 = stat_tool.Histogram(\"../share/data/meri5.dat\")\n",
    "#meri0 = stat_tool.Merge(meri1, meri2, meri3, meri4, meri5)"
   ]
  },
  {
   "cell_type": "code",
   "execution_count": 4,
   "metadata": {
    "collapsed": true
   },
   "outputs": [],
   "source": [
    "meri1.ascii_print"
   ]
  },
  {
   "cell_type": "code",
   "execution_count": null,
   "metadata": {
    "collapsed": false
   },
   "outputs": [],
   "source": [
    "meri0.plot()\n",
    "plt.show()"
   ]
  },
  {
   "cell_type": "code",
   "execution_count": 12,
   "metadata": {
    "collapsed": false
   },
   "outputs": [
    {
     "data": {
      "text/plain": [
       "(Boost.Python.instance,)"
      ]
     },
     "execution_count": 12,
     "metadata": {},
     "output_type": "execute_result"
    }
   ],
   "source": [
    "from openalea.stat_tool import __stat_tool\n",
    "__stat_tool.std._BasicStreambuf_1682b704c1ba5c66ba7aa8f2fb38a8cf.__\n",
    "#__stat_tool.std._BasicOstream_d2368b7a8f79566f82141f26afccb03c(\"\")"
   ]
  },
  {
   "cell_type": "raw",
   "metadata": {
    "collapsed": true
   },
   "source": [
    "Compare(meri1, meri2, meri3, meri4, meri5, \"N\")\n",
    "\n",
    "ComparisonTest(\"F\", meri1, meri2)\n",
    "ComparisonTest(\"T\", meri1, meri2)\n",
    "ComparisonTest(\"W\", meri1, meri2)\n",
    "\n",
    "ComparisonTest(\"F\", meri1, meri3)\n",
    "ComparisonTest(\"T\", meri1, meri3)\n",
    "ComparisonTest(\"W\", meri1, meri3)\n",
    "\n",
    "# estimation of a mixture of two distributions assuming a first sub-population of GUs\n",
    "# made only of a preformed part and a second sub-population made of both a preformed part\n",
    "# and a neoformed part\n",
    "\n",
    "mixt1 = Estimate(meri2, \"MIXTURE\", \"B\", \"B\")\n",
    "\n",
    "meri = Merge(meri1, meri2, meri3, meri4, meri5)\n",
    "\n",
    "# model selection approach: estimation of both the mixture parameters and\n",
    "# the number of components \n",
    "\n",
    "mixt2 = Estimate(meri, \"MIXTURE\", \"B\", \"B\", \"B\", \"B\",  NbComponent->\"Estimated\")\n",
    "# mixt2 = Estimate(meri, \"MIXTURE\", \"NB\", \"NB\")\n",
    "# Plot(ExtractDistribution(mixt2, \"Mixture\"))\n",
    "# Display(mixt2)\n",
    "\n",
    "peup1 = Histogram(\"Sample/Histogram/peup1.his\")\n",
    "peup2 = Histogram(\"Sample/Histogram/peup2.his\")\n",
    "peup3 = Histogram(\"Sample/Histogram/peup3.his\")\n",
    "peup4 = Histogram(\"Sample/Histogram/peup4.his\")\n",
    "peup5 = Histogram(\"Sample/Histogram/peup5.his\")\n",
    "peup6 = Histogram(\"Sample/Histogram/peup6.his\")\n",
    "\n",
    "mixt10 = Estimate(peup2, \"MIXTURE\", \"B\", \"NB\", \"NB\", \"NB\", NbComponent->\"Estimated\")\n",
    "\n",
    "peup = Merge(peup1, peup2, peup3, peup4, peup5, peup6)\n",
    "\n",
    "mixt11 = Estimate(peup, \"MIXTURE\", \"B\", \"NB\", \"NB\", \"NB\", NbComponent->\"Estimated\")\n",
    "# mixt11 = Estimate(peup, \"MIXTURE\", \"B\", \"NB\")"
   ]
  },
  {
   "cell_type": "code",
   "execution_count": null,
   "metadata": {
    "collapsed": true
   },
   "outputs": [],
   "source": []
  }
 ],
 "metadata": {
  "kernelspec": {
   "display_name": "Python 2",
   "language": "python",
   "name": "python2"
  },
  "language_info": {
   "codemirror_mode": {
    "name": "ipython",
    "version": 2
   },
   "file_extension": ".py",
   "mimetype": "text/x-python",
   "name": "python",
   "nbconvert_exporter": "python",
   "pygments_lexer": "ipython2",
   "version": "2.7.9"
  }
 },
 "nbformat": 4,
 "nbformat_minor": 0
}
