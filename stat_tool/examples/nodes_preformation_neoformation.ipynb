{
 "cells": [
  {
   "cell_type": "markdown",
   "metadata": {},
   "source": [
    "# Analyzing the number of nodes of growth units in selected architectural  position considering the respective roles of preformation and neoformation\n",
    "\n",
    "**Abstract**\n",
    "This notebook aims at analyzing the number of nodes of growth units in selected architectural  position considering the respective roles of preformation and neoformation using\n",
    "\n",
    "* comparison tests,\n",
    "* one-way variance analysis,\n",
    "* estimation of finite mixture of distributions.\n",
    "\n",
    "**Keywords**\n",
    "comparison test; anova; finite mixture; architecture analysis;\n",
    "\n",
    "## Introduction\n",
    "\n",
    "## Material & methods\n",
    "\n",
    "Data sets files are avaible in the `../share/data` directory.\n",
    "\n",
    "* Wild cherry tree, number of nodes per growth unit (GU), \n",
    "\n",
    "    * data: Dominique Fournier,\n",
    "    * files: \n",
    "    \n",
    "        * meri1.his: order 1,\n",
    "        * meri2.his: order 2,\n",
    "        * meri3.his: order 3, GU 1,\n",
    "        * meri4.his: order 3, GU 2,\n",
    "        * meri5.his: short shoots.\n",
    "        \n",
    "* Poplar:,number of nodes per growth unit, \n",
    "\n",
    "    * data: Yves Caraglio and Herve Rey,\n",
    "    * files:\n",
    "      \n",
    "        * peup1.his: order 2,\n",
    "        * peup2.his: order 3,\n",
    "        * peup3.his: order 4,\n",
    "        * peup4.his: order 5,\n",
    "        * peup5.his: order 3, GU 4,\n",
    "        * peup6.his: order 3, acrotony.\n",
    "        \n",
    "## Results"
   ]
  },
  {
   "cell_type": "code",
   "execution_count": 1,
   "metadata": {
    "collapsed": false
   },
   "outputs": [
    {
     "ename": "ImportError",
     "evalue": "No module named stat_tool",
     "output_type": "error",
     "traceback": [
      "\u001b[1;31m---------------------------------------------------------------------------\u001b[0m",
      "\u001b[1;31mImportError\u001b[0m                               Traceback (most recent call last)",
      "\u001b[1;32m<ipython-input-1-4c0a6dcf4215>\u001b[0m in \u001b[0;36m<module>\u001b[1;34m()\u001b[0m\n\u001b[1;32m----> 1\u001b[1;33m \u001b[1;32mfrom\u001b[0m \u001b[0mstat_tool\u001b[0m \u001b[1;32mimport\u001b[0m \u001b[0mstat_tool\u001b[0m\u001b[1;33m\u001b[0m\u001b[0m\n\u001b[0m",
      "\u001b[1;31mImportError\u001b[0m: No module named stat_tool"
     ]
    }
   ],
   "source": [
    "from stat_tool import stat_tool"
   ]
  },
  {
   "cell_type": "raw",
   "metadata": {
    "collapsed": true
   },
   "source": [
    "meri1 = Histogram(\"Sample/Histogram/meri1.his\")\n",
    "meri2 = Histogram(\"Sample/Histogram/meri2.his\")\n",
    "meri3 = Histogram(\"Sample/Histogram/meri3.his\")\n",
    "meri4 = Histogram(\"Sample/Histogram/meri4.his\")\n",
    "meri5 = Histogram(\"Sample/Histogram/meri5.his\")\n",
    "\n",
    "# Plot(meri1, meri2, meri3, meri4, meri5)\n",
    "\n",
    "Compare(meri1, meri2, meri3, meri4, meri5, \"N\")\n",
    "\n",
    "ComparisonTest(\"F\", meri1, meri2)\n",
    "ComparisonTest(\"T\", meri1, meri2)\n",
    "ComparisonTest(\"W\", meri1, meri2)\n",
    "\n",
    "ComparisonTest(\"F\", meri1, meri3)\n",
    "ComparisonTest(\"T\", meri1, meri3)\n",
    "ComparisonTest(\"W\", meri1, meri3)\n",
    "\n",
    "# estimation of a mixture of two distributions assuming a first sub-population of GUs\n",
    "# made only of a preformed part and a second sub-population made of both a preformed part\n",
    "# and a neoformed part\n",
    "\n",
    "mixt1 = Estimate(meri2, \"MIXTURE\", \"B\", \"B\")\n",
    "\n",
    "meri = Merge(meri1, meri2, meri3, meri4, meri5)\n",
    "\n",
    "# model selection approach: estimation of both the mixture parameters and\n",
    "# the number of components \n",
    "\n",
    "mixt2 = Estimate(meri, \"MIXTURE\", \"B\", \"B\", \"B\", \"B\",  NbComponent->\"Estimated\")\n",
    "# mixt2 = Estimate(meri, \"MIXTURE\", \"NB\", \"NB\")\n",
    "# Plot(ExtractDistribution(mixt2, \"Mixture\"))\n",
    "# Display(mixt2)\n",
    "\n",
    "peup1 = Histogram(\"Sample/Histogram/peup1.his\")\n",
    "peup2 = Histogram(\"Sample/Histogram/peup2.his\")\n",
    "peup3 = Histogram(\"Sample/Histogram/peup3.his\")\n",
    "peup4 = Histogram(\"Sample/Histogram/peup4.his\")\n",
    "peup5 = Histogram(\"Sample/Histogram/peup5.his\")\n",
    "peup6 = Histogram(\"Sample/Histogram/peup6.his\")\n",
    "\n",
    "mixt10 = Estimate(peup2, \"MIXTURE\", \"B\", \"NB\", \"NB\", \"NB\", NbComponent->\"Estimated\")\n",
    "\n",
    "peup = Merge(peup1, peup2, peup3, peup4, peup5, peup6)\n",
    "\n",
    "mixt11 = Estimate(peup, \"MIXTURE\", \"B\", \"NB\", \"NB\", \"NB\", NbComponent->\"Estimated\")\n",
    "# mixt11 = Estimate(peup, \"MIXTURE\", \"B\", \"NB\")"
   ]
  },
  {
   "cell_type": "code",
   "execution_count": null,
   "metadata": {
    "collapsed": true
   },
   "outputs": [],
   "source": []
  }
 ],
 "metadata": {
  "kernelspec": {
   "display_name": "Python 2",
   "language": "python",
   "name": "python2"
  },
  "language_info": {
   "codemirror_mode": {
    "name": "ipython",
    "version": 2
   },
   "file_extension": ".py",
   "mimetype": "text/x-python",
   "name": "python",
   "nbconvert_exporter": "python",
   "pygments_lexer": "ipython2",
   "version": "2.7.9"
  }
 },
 "nbformat": 4,
 "nbformat_minor": 0
}
